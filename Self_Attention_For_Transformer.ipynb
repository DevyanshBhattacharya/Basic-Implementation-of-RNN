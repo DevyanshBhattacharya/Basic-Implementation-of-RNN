{
  "nbformat": 4,
  "nbformat_minor": 0,
  "metadata": {
    "colab": {
      "provenance": [],
      "toc_visible": true,
      "authorship_tag": "ABX9TyN2lGIUA0OhJam5Wa2taJHV",
      "include_colab_link": true
    },
    "kernelspec": {
      "name": "python3",
      "display_name": "Python 3"
    },
    "language_info": {
      "name": "python"
    }
  },
  "cells": [
    {
      "cell_type": "markdown",
      "metadata": {
        "id": "view-in-github",
        "colab_type": "text"
      },
      "source": [
        "<a href=\"https://colab.research.google.com/github/DevyanshBhattacharya/Basic-Implementation-of-RNN/blob/main/Self_Attention_For_Transformer.ipynb\" target=\"_parent\"><img src=\"https://colab.research.google.com/assets/colab-badge.svg\" alt=\"Open In Colab\"/></a>"
      ]
    },
    {
      "cell_type": "markdown",
      "source": [
        "Implementation of Self Attention for Transformer\n"
      ],
      "metadata": {
        "id": "Y-tGfAk1lh7b"
      }
    },
    {
      "cell_type": "code",
      "execution_count": null,
      "metadata": {
        "id": "IKw7OFLHi6Xw"
      },
      "outputs": [],
      "source": [
        "import math\n",
        "import numpy as np"
      ]
    },
    {
      "cell_type": "code",
      "source": [
        "L,d_k,d_v=4,8,8"
      ],
      "metadata": {
        "id": "tsValvHtlzcT"
      },
      "execution_count": null,
      "outputs": []
    },
    {
      "cell_type": "code",
      "source": [
        "q=np.random.randn(L,d_k)\n",
        "k=np.random.randn(L,d_k)\n",
        "v=np.random.randn(L,d_v)\n"
      ],
      "metadata": {
        "id": "U2XtSujylzp-"
      },
      "execution_count": null,
      "outputs": []
    },
    {
      "cell_type": "code",
      "source": [
        "dat=np.matmul(q,k.T)"
      ],
      "metadata": {
        "id": "dFW6P8opoaKo"
      },
      "execution_count": null,
      "outputs": []
    },
    {
      "cell_type": "code",
      "source": [
        "print(dat)"
      ],
      "metadata": {
        "colab": {
          "base_uri": "https://localhost:8080/"
        },
        "id": "awEn3mAwogOw",
        "outputId": "b18b4bed-a073-4ab9-fb97-0532bda68005"
      },
      "execution_count": null,
      "outputs": [
        {
          "output_type": "stream",
          "name": "stdout",
          "text": [
            "[[-1.21241755 -0.80089127  0.84305403 -0.84838667]\n",
            " [ 3.52275505 -0.7319616   1.06258102  0.51265303]\n",
            " [-3.06255762  3.91297708 -2.12699367  2.87118119]\n",
            " [ 0.46528124 -2.58331123  0.53450799 -1.9575271 ]]\n"
          ]
        }
      ]
    },
    {
      "cell_type": "code",
      "source": [
        "#Reducing the varience\n",
        "scale=np.matmul(q,k.T)/math.sqrt(d_k)"
      ],
      "metadata": {
        "id": "9ahwBQMfols8"
      },
      "execution_count": null,
      "outputs": []
    },
    {
      "cell_type": "code",
      "source": [
        "#Masking the unrequired Data\n",
        "mask=np.tril(np.ones((L,L)))\n",
        "mask[mask==0]= -np.infty\n",
        "mask[mask==1]=0"
      ],
      "metadata": {
        "id": "5NbZeONso797"
      },
      "execution_count": null,
      "outputs": []
    },
    {
      "cell_type": "code",
      "source": [
        "print(scale+mask)"
      ],
      "metadata": {
        "colab": {
          "base_uri": "https://localhost:8080/"
        },
        "id": "tXj76NaHpdEp",
        "outputId": "f67dfaef-54d3-4b04-be7a-d3adc589c4aa"
      },
      "execution_count": null,
      "outputs": [
        {
          "output_type": "stream",
          "name": "stdout",
          "text": [
            "[[-0.42865434        -inf        -inf        -inf]\n",
            " [ 1.24548199 -0.2587875         -inf        -inf]\n",
            " [-1.08277763  1.38344631 -0.75200583        -inf]\n",
            " [ 0.16450176 -0.91333844  0.18897711 -0.69209034]]\n"
          ]
        }
      ]
    },
    {
      "cell_type": "markdown",
      "source": [],
      "metadata": {
        "id": "rXx0x7w6ouL9"
      }
    },
    {
      "cell_type": "code",
      "source": [
        "#Applying softmax ( Converts a vector to a probability Distribution)\n",
        "def softmax(x):\n",
        "  return np.exp(x).T/np.sum(np.exp(x),axis=1).T\n"
      ],
      "metadata": {
        "id": "Qj_0I_vPplqj"
      },
      "execution_count": null,
      "outputs": []
    },
    {
      "cell_type": "code",
      "source": [
        "attention=softmax(scale+mask)"
      ],
      "metadata": {
        "id": "_C8IYL6iv5Pa"
      },
      "execution_count": null,
      "outputs": []
    },
    {
      "cell_type": "code",
      "source": [
        "print(attention)"
      ],
      "metadata": {
        "colab": {
          "base_uri": "https://localhost:8080/"
        },
        "id": "ka3Hveghv-PF",
        "outputId": "cdbf86ca-eec7-4a10-eb0f-e5727a4c24bf"
      },
      "execution_count": null,
      "outputs": [
        {
          "output_type": "stream",
          "name": "stdout",
          "text": [
            "[[1.         0.81821039 0.07057197 0.35845972]\n",
            " [0.         0.18178961 0.83118887 0.12199452]\n",
            " [0.         0.         0.09823916 0.36734139]\n",
            " [0.         0.         0.         0.15220437]]\n"
          ]
        }
      ]
    },
    {
      "cell_type": "code",
      "source": [
        "final=np.matmul(attention,v)\n",
        "print(final)"
      ],
      "metadata": {
        "id": "bMj_VJDJwVzL",
        "outputId": "254131a2-0915-42bb-88db-743bf938cc24",
        "colab": {
          "base_uri": "https://localhost:8080/"
        }
      },
      "execution_count": null,
      "outputs": [
        {
          "output_type": "stream",
          "name": "stdout",
          "text": [
            "[[-0.18127944  0.0222298  -0.80877712 -1.05817772 -0.5240953   0.26064823\n",
            "  -0.02905582  1.53639602]\n",
            " [-0.18773479  0.5646932   1.41841641  0.02446668 -0.495054   -0.1876843\n",
            "   0.83305194  0.65528957]\n",
            " [ 0.052302   -0.01627009  0.64429429 -0.24109246 -0.38917528 -0.30485654\n",
            "  -0.33371908  0.18176475]\n",
            " [ 0.02539486 -0.04358063  0.19669721 -0.12067309 -0.14158091 -0.13350718\n",
            "  -0.17811768  0.04003029]]\n"
          ]
        }
      ]
    }
  ]
}