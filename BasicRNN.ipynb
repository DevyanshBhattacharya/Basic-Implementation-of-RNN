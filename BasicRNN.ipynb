{
  "nbformat": 4,
  "nbformat_minor": 0,
  "metadata": {
    "colab": {
      "provenance": [],
      "authorship_tag": "ABX9TyOfN92hbLSrhkjYt1XjhXwp",
      "include_colab_link": true
    },
    "kernelspec": {
      "name": "python3",
      "display_name": "Python 3"
    },
    "language_info": {
      "name": "python"
    }
  },
  "cells": [
    {
      "cell_type": "markdown",
      "metadata": {
        "id": "view-in-github",
        "colab_type": "text"
      },
      "source": [
        "<a href=\"https://colab.research.google.com/github/DevyanshBhattacharya/Basic-Implementation-of-RNN/blob/main/BasicRNN.ipynb\" target=\"_parent\"><img src=\"https://colab.research.google.com/assets/colab-badge.svg\" alt=\"Open In Colab\"/></a>"
      ]
    },
    {
      "cell_type": "code",
      "execution_count": 1,
      "metadata": {
        "id": "VbnpGbUWILOl"
      },
      "outputs": [],
      "source": [
        "import tensorflow as tf\n",
        "from tensorflow.keras.models import Sequential\n",
        "from tensorflow.keras.layers import Dense , Dropout,LSTM\n",
        "import numpy"
      ]
    },
    {
      "cell_type": "code",
      "source": [
        "mnist= tf.keras.datasets.mnist\n",
        "(X_train,y_train),(X_test,y_test)=mnist.load_data()"
      ],
      "metadata": {
        "colab": {
          "base_uri": "https://localhost:8080/"
        },
        "id": "Cu8ZsvmvIqC1",
        "outputId": "7c655245-145c-41f6-d05b-a592789c5c67"
      },
      "execution_count": 2,
      "outputs": [
        {
          "output_type": "stream",
          "name": "stdout",
          "text": [
            "Downloading data from https://storage.googleapis.com/tensorflow/tf-keras-datasets/mnist.npz\n",
            "11490434/11490434 [==============================] - 0s 0us/step\n"
          ]
        }
      ]
    },
    {
      "cell_type": "code",
      "source": [
        "print(X_train.shape,X_train[0].shape)\n",
        "X_train=X_train/255.0\n",
        "X_test =X_test/255.0"
      ],
      "metadata": {
        "colab": {
          "base_uri": "https://localhost:8080/"
        },
        "id": "SWDbYeawJOkO",
        "outputId": "f9b0809f-6939-4c24-ad28-ea005166c4a5"
      },
      "execution_count": 15,
      "outputs": [
        {
          "output_type": "stream",
          "name": "stdout",
          "text": [
            "(60000, 28, 28) (28, 28)\n"
          ]
        }
      ]
    },
    {
      "cell_type": "code",
      "source": [
        "model = Sequential()\n",
        "model.add(LSTM(128,input_shape=(X_train.shape[1:]), activation ='relu',return_sequences=True))\n",
        "model.add(Dropout(0.2))\n",
        "\n",
        "model.add(LSTM(128,activation='relu'))\n",
        "model.add(Dropout(0.2))\n",
        "\n",
        "model.add(Dense(32,activation='relu'))\n",
        "model.add(Dropout(0.2))\n",
        "\n",
        "model.add(Dense(10,activation='softmax'))\n",
        "\n",
        "opt=tf.keras.optimizers.Adam(lr=1e-3)\n",
        "\n",
        "\n",
        "model.compile(loss='sparse_categorical_crossentropy',optimizer=opt,metrics=['accuracy'])\n",
        "\n",
        "model.fit(X_train, y_train, epochs=4, validation_data=(X_test,y_test))\n"
      ],
      "metadata": {
        "colab": {
          "base_uri": "https://localhost:8080/"
        },
        "id": "9JzQ1rTaJnzT",
        "outputId": "01ab2a14-0548-4fb3-a4dc-c1d08940a90c"
      },
      "execution_count": null,
      "outputs": [
        {
          "output_type": "stream",
          "name": "stderr",
          "text": [
            "WARNING:absl:`lr` is deprecated in Keras optimizer, please use `learning_rate` or use the legacy optimizer, e.g.,tf.keras.optimizers.legacy.Adam.\n"
          ]
        },
        {
          "output_type": "stream",
          "name": "stdout",
          "text": [
            "Epoch 1/4\n",
            "1875/1875 [==============================] - 182s 96ms/step - loss: 0.6244 - accuracy: 0.7949 - val_loss: 0.1468 - val_accuracy: 0.9568\n",
            "Epoch 2/4\n",
            "1875/1875 [==============================] - 174s 93ms/step - loss: 0.1625 - accuracy: 0.9574 - val_loss: 0.1160 - val_accuracy: 0.9673\n",
            "Epoch 3/4\n",
            "1875/1875 [==============================] - ETA: 0s - loss: 0.1087 - accuracy: 0.9704"
          ]
        }
      ]
    },
    {
      "cell_type": "code",
      "source": [
        "pred=model.predict(X_test)\n",
        "y_test=np.argmax(y_test,axis=1)\n",
        "print(accuracy_score(y_test,pred)*100)"
      ],
      "metadata": {
        "id": "HATSYrpzU3hw"
      },
      "execution_count": null,
      "outputs": []
    }
  ]
}